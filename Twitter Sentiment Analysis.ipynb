{
 "cells": [
  {
   "cell_type": "code",
   "execution_count": 3,
   "id": "7ba3f14c",
   "metadata": {},
   "outputs": [
    {
     "name": "stderr",
     "output_type": "stream",
     "text": [
      "[nltk_data] Downloading package stopwords to\n",
      "[nltk_data]     C:\\Users\\SU3ARNA\\AppData\\Roaming\\nltk_data...\n",
      "[nltk_data]   Package stopwords is already up-to-date!\n"
     ]
    }
   ],
   "source": [
    "import numpy as np\n",
    "import pandas as pd\n",
    "import re,string  #regular expression or RegEx in python\n",
    "import matplotlib.pyplot as plt\n",
    "from nltk.corpus import stopwords  #Natural Language ToolKit\n",
    "from nltk.stem import PorterStemmer\n",
    "from sklearn.feature_extraction.text import TfidfVectorizer\n",
    "from sklearn.pipeline import Pipeline\n",
    "from sklearn.metrics import classification_report, confusion_matrix\n",
    "from sklearn.model_selection import train_test_split\n",
    "from sklearn.feature_selection import SelectKBest, chi2\n",
    "import pickle\n",
    "import nltk\n",
    "nltk.download('stopwords')\n",
    "%matplotlib inline"
   ]
  },
  {
   "cell_type": "code",
   "execution_count": 4,
   "id": "cc7404e2",
   "metadata": {},
   "outputs": [
    {
     "data": {
      "text/html": [
       "<div>\n",
       "<style scoped>\n",
       "    .dataframe tbody tr th:only-of-type {\n",
       "        vertical-align: middle;\n",
       "    }\n",
       "\n",
       "    .dataframe tbody tr th {\n",
       "        vertical-align: top;\n",
       "    }\n",
       "\n",
       "    .dataframe thead th {\n",
       "        text-align: right;\n",
       "    }\n",
       "</style>\n",
       "<table border=\"1\" class=\"dataframe\">\n",
       "  <thead>\n",
       "    <tr style=\"text-align: right;\">\n",
       "      <th></th>\n",
       "      <th>2401</th>\n",
       "      <th>Borderlands</th>\n",
       "      <th>Positive</th>\n",
       "      <th>im getting on borderlands and i will murder you all ,</th>\n",
       "    </tr>\n",
       "  </thead>\n",
       "  <tbody>\n",
       "    <tr>\n",
       "      <th>44846</th>\n",
       "      <td>11701</td>\n",
       "      <td>Verizon</td>\n",
       "      <td>Negative</td>\n",
       "      <td>@verizon this is to notify you that ur company...</td>\n",
       "    </tr>\n",
       "    <tr>\n",
       "      <th>67906</th>\n",
       "      <td>3630</td>\n",
       "      <td>Cyberpunk2077</td>\n",
       "      <td>Positive</td>\n",
       "      <td>@CyberpunkGame its 19th 2020 release date and ...</td>\n",
       "    </tr>\n",
       "    <tr>\n",
       "      <th>33870</th>\n",
       "      <td>6617</td>\n",
       "      <td>Fortnite</td>\n",
       "      <td>Negative</td>\n",
       "      <td>Fortnite bullies me, right?. I. NEED. HIM! pic...</td>\n",
       "    </tr>\n",
       "    <tr>\n",
       "      <th>61119</th>\n",
       "      <td>4876</td>\n",
       "      <td>GrandTheftAuto(GTA)</td>\n",
       "      <td>Positive</td>\n",
       "      <td>Thank god fuck</td>\n",
       "    </tr>\n",
       "    <tr>\n",
       "      <th>45123</th>\n",
       "      <td>11748</td>\n",
       "      <td>Verizon</td>\n",
       "      <td>Positive</td>\n",
       "      <td>Chorus Thank you @davematthewsbnd &amp; @verizon a...</td>\n",
       "    </tr>\n",
       "    <tr>\n",
       "      <th>...</th>\n",
       "      <td>...</td>\n",
       "      <td>...</td>\n",
       "      <td>...</td>\n",
       "      <td>...</td>\n",
       "    </tr>\n",
       "    <tr>\n",
       "      <th>70753</th>\n",
       "      <td>10920</td>\n",
       "      <td>TomClancysGhostRecon</td>\n",
       "      <td>Neutral</td>\n",
       "      <td>@ GhostRecon the games have their problems but...</td>\n",
       "    </tr>\n",
       "    <tr>\n",
       "      <th>22203</th>\n",
       "      <td>4199</td>\n",
       "      <td>CS-GO</td>\n",
       "      <td>Positive</td>\n",
       "      <td>The I know I should be studying but fuck it, a...</td>\n",
       "    </tr>\n",
       "    <tr>\n",
       "      <th>74066</th>\n",
       "      <td>9090</td>\n",
       "      <td>Nvidia</td>\n",
       "      <td>Neutral</td>\n",
       "      <td>E2E Networks is pleased to bring you new Test ...</td>\n",
       "    </tr>\n",
       "    <tr>\n",
       "      <th>19835</th>\n",
       "      <td>12596</td>\n",
       "      <td>WorldOfCraft</td>\n",
       "      <td>Neutral</td>\n",
       "      <td>I just earned the [Scrappy's Best Friend] Achi...</td>\n",
       "    </tr>\n",
       "    <tr>\n",
       "      <th>14371</th>\n",
       "      <td>2863</td>\n",
       "      <td>Dota2</td>\n",
       "      <td>Neutral</td>\n",
       "      <td>It's the return of @ teamnigma - SIMPLY PHENOM...</td>\n",
       "    </tr>\n",
       "  </tbody>\n",
       "</table>\n",
       "<p>74681 rows × 4 columns</p>\n",
       "</div>"
      ],
      "text/plain": [
       "        2401           Borderlands  Positive  \\\n",
       "44846  11701               Verizon  Negative   \n",
       "67906   3630         Cyberpunk2077  Positive   \n",
       "33870   6617              Fortnite  Negative   \n",
       "61119   4876   GrandTheftAuto(GTA)  Positive   \n",
       "45123  11748               Verizon  Positive   \n",
       "...      ...                   ...       ...   \n",
       "70753  10920  TomClancysGhostRecon   Neutral   \n",
       "22203   4199                 CS-GO  Positive   \n",
       "74066   9090                Nvidia   Neutral   \n",
       "19835  12596          WorldOfCraft   Neutral   \n",
       "14371   2863                 Dota2   Neutral   \n",
       "\n",
       "      im getting on borderlands and i will murder you all ,  \n",
       "44846  @verizon this is to notify you that ur company...     \n",
       "67906  @CyberpunkGame its 19th 2020 release date and ...     \n",
       "33870  Fortnite bullies me, right?. I. NEED. HIM! pic...     \n",
       "61119                                     Thank god fuck     \n",
       "45123  Chorus Thank you @davematthewsbnd & @verizon a...     \n",
       "...                                                  ...     \n",
       "70753  @ GhostRecon the games have their problems but...     \n",
       "22203  The I know I should be studying but fuck it, a...     \n",
       "74066  E2E Networks is pleased to bring you new Test ...     \n",
       "19835  I just earned the [Scrappy's Best Friend] Achi...     \n",
       "14371  It's the return of @ teamnigma - SIMPLY PHENOM...     \n",
       "\n",
       "[74681 rows x 4 columns]"
      ]
     },
     "execution_count": 4,
     "metadata": {},
     "output_type": "execute_result"
    }
   ],
   "source": [
    "df = pd.read_csv('twitter_training.csv', encoding = 'latin1')\n",
    "df = df.sample(frac = 1)\n",
    "df"
   ]
  },
  {
   "cell_type": "code",
   "execution_count": 5,
   "id": "b2f1506c",
   "metadata": {},
   "outputs": [
    {
     "data": {
      "text/plain": [
       "32"
      ]
     },
     "execution_count": 5,
     "metadata": {},
     "output_type": "execute_result"
    }
   ],
   "source": [
    "#No of a categories\n",
    "len(set(df['Borderlands']))"
   ]
  },
  {
   "cell_type": "code",
   "execution_count": 6,
   "id": "fd0afdf8",
   "metadata": {},
   "outputs": [
    {
     "data": {
      "text/plain": [
       "Borderlands\n",
       "Amazon                               2316\n",
       "ApexLegends                          2376\n",
       "AssassinsCreed                       2244\n",
       "Battlefield                          2346\n",
       "Borderlands                          2285\n",
       "CS-GO                                2304\n",
       "CallOfDuty                           2394\n",
       "CallOfDutyBlackopsColdWar            2376\n",
       "Cyberpunk2077                        2304\n",
       "Dota2                                2364\n",
       "FIFA                                 2340\n",
       "Facebook                             2370\n",
       "Fortnite                             2274\n",
       "Google                               2298\n",
       "GrandTheftAuto(GTA)                  2304\n",
       "Hearthstone                          2298\n",
       "HomeDepot                            2310\n",
       "LeagueOfLegends                      2394\n",
       "MaddenNFL                            2400\n",
       "Microsoft                            2400\n",
       "NBA2K                                2352\n",
       "Nvidia                               2298\n",
       "Overwatch                            2334\n",
       "PlayStation5(PS5)                    2310\n",
       "PlayerUnknownsBattlegrounds(PUBG)    2274\n",
       "RedDeadRedemption(RDR)               2262\n",
       "TomClancysGhostRecon                 2346\n",
       "TomClancysRainbowSix                 2400\n",
       "Verizon                              2382\n",
       "WorldOfCraft                         2364\n",
       "Xbox(Xseries)                        2334\n",
       "johnson&johnson                      2328\n",
       "Name: Borderlands, dtype: int64"
      ]
     },
     "execution_count": 6,
     "metadata": {},
     "output_type": "execute_result"
    }
   ],
   "source": [
    "df.groupby('Borderlands').Borderlands.count()"
   ]
  },
  {
   "cell_type": "code",
   "execution_count": 7,
   "id": "743ae8be",
   "metadata": {},
   "outputs": [
    {
     "data": {
      "text/html": [
       "<div>\n",
       "<style scoped>\n",
       "    .dataframe tbody tr th:only-of-type {\n",
       "        vertical-align: middle;\n",
       "    }\n",
       "\n",
       "    .dataframe tbody tr th {\n",
       "        vertical-align: top;\n",
       "    }\n",
       "\n",
       "    .dataframe thead th {\n",
       "        text-align: right;\n",
       "    }\n",
       "</style>\n",
       "<table border=\"1\" class=\"dataframe\">\n",
       "  <thead>\n",
       "    <tr style=\"text-align: right;\">\n",
       "      <th></th>\n",
       "      <th>id</th>\n",
       "      <th>information</th>\n",
       "      <th>type</th>\n",
       "      <th>text</th>\n",
       "    </tr>\n",
       "  </thead>\n",
       "  <tbody>\n",
       "    <tr>\n",
       "      <th>44846</th>\n",
       "      <td>11701</td>\n",
       "      <td>Verizon</td>\n",
       "      <td>Negative</td>\n",
       "      <td>@verizon this is to notify you that ur company...</td>\n",
       "    </tr>\n",
       "    <tr>\n",
       "      <th>67906</th>\n",
       "      <td>3630</td>\n",
       "      <td>Cyberpunk2077</td>\n",
       "      <td>Positive</td>\n",
       "      <td>@CyberpunkGame its 19th 2020 release date and ...</td>\n",
       "    </tr>\n",
       "    <tr>\n",
       "      <th>33870</th>\n",
       "      <td>6617</td>\n",
       "      <td>Fortnite</td>\n",
       "      <td>Negative</td>\n",
       "      <td>Fortnite bullies me, right?. I. NEED. HIM! pic...</td>\n",
       "    </tr>\n",
       "    <tr>\n",
       "      <th>61119</th>\n",
       "      <td>4876</td>\n",
       "      <td>GrandTheftAuto(GTA)</td>\n",
       "      <td>Positive</td>\n",
       "      <td>Thank god fuck</td>\n",
       "    </tr>\n",
       "    <tr>\n",
       "      <th>45123</th>\n",
       "      <td>11748</td>\n",
       "      <td>Verizon</td>\n",
       "      <td>Positive</td>\n",
       "      <td>Chorus Thank you @davematthewsbnd &amp; @verizon a...</td>\n",
       "    </tr>\n",
       "  </tbody>\n",
       "</table>\n",
       "</div>"
      ],
      "text/plain": [
       "          id          information      type  \\\n",
       "44846  11701              Verizon  Negative   \n",
       "67906   3630        Cyberpunk2077  Positive   \n",
       "33870   6617             Fortnite  Negative   \n",
       "61119   4876  GrandTheftAuto(GTA)  Positive   \n",
       "45123  11748              Verizon  Positive   \n",
       "\n",
       "                                                    text  \n",
       "44846  @verizon this is to notify you that ur company...  \n",
       "67906  @CyberpunkGame its 19th 2020 release date and ...  \n",
       "33870  Fortnite bullies me, right?. I. NEED. HIM! pic...  \n",
       "61119                                     Thank god fuck  \n",
       "45123  Chorus Thank you @davematthewsbnd & @verizon a...  "
      ]
     },
     "execution_count": 7,
     "metadata": {},
     "output_type": "execute_result"
    }
   ],
   "source": [
    "df.columns=['id','information','type','text']\n",
    "df.head()"
   ]
  },
  {
   "cell_type": "code",
   "execution_count": 8,
   "id": "7e018c68",
   "metadata": {},
   "outputs": [
    {
     "data": {
      "text/plain": [
       "(74681, 4)"
      ]
     },
     "execution_count": 8,
     "metadata": {},
     "output_type": "execute_result"
    }
   ],
   "source": [
    "df.shape"
   ]
  },
  {
   "cell_type": "code",
   "execution_count": 9,
   "id": "5b9643bc",
   "metadata": {},
   "outputs": [
    {
     "name": "stdout",
     "output_type": "stream",
     "text": [
      "<class 'pandas.core.frame.DataFrame'>\n",
      "Index: 74681 entries, 44846 to 14371\n",
      "Data columns (total 4 columns):\n",
      " #   Column       Non-Null Count  Dtype \n",
      "---  ------       --------------  ----- \n",
      " 0   id           74681 non-null  int64 \n",
      " 1   information  74681 non-null  object\n",
      " 2   type         74681 non-null  object\n",
      " 3   text         73995 non-null  object\n",
      "dtypes: int64(1), object(3)\n",
      "memory usage: 2.8+ MB\n"
     ]
    }
   ],
   "source": [
    "df.info()"
   ]
  },
  {
   "cell_type": "code",
   "execution_count": 10,
   "id": "5bc6e06e",
   "metadata": {},
   "outputs": [
    {
     "name": "stdout",
     "output_type": "stream",
     "text": [
      "Missing values in Training Dataset:\n",
      "id               0\n",
      "information      0\n",
      "type             0\n",
      "text           686\n",
      "dtype: int64\n"
     ]
    }
   ],
   "source": [
    "# Check for missing values in the training dataset\n",
    "print(\"Missing values in Training Dataset:\")\n",
    "print(df.isnull().sum())"
   ]
  },
  {
   "cell_type": "code",
   "execution_count": 11,
   "id": "67f15a4a",
   "metadata": {},
   "outputs": [],
   "source": [
    "df = df.dropna(subset=['text'])"
   ]
  },
  {
   "cell_type": "code",
   "execution_count": 12,
   "id": "26fefd17",
   "metadata": {},
   "outputs": [
    {
     "name": "stdout",
     "output_type": "stream",
     "text": [
      "Missing values in Training Dataset:\n",
      "id             0\n",
      "information    0\n",
      "type           0\n",
      "text           0\n",
      "dtype: int64\n"
     ]
    }
   ],
   "source": [
    "print(\"Missing values in Training Dataset:\")\n",
    "print(df.isnull().sum())"
   ]
  },
  {
   "cell_type": "code",
   "execution_count": 13,
   "id": "564e4e0b",
   "metadata": {},
   "outputs": [
    {
     "data": {
      "text/plain": [
       "(73995, 4)"
      ]
     },
     "execution_count": 13,
     "metadata": {},
     "output_type": "execute_result"
    }
   ],
   "source": [
    "df.shape"
   ]
  },
  {
   "cell_type": "code",
   "execution_count": 14,
   "id": "b9a5085b",
   "metadata": {},
   "outputs": [
    {
     "name": "stdout",
     "output_type": "stream",
     "text": [
      "<class 'pandas.core.frame.DataFrame'>\n",
      "Index: 73995 entries, 44846 to 14371\n",
      "Data columns (total 4 columns):\n",
      " #   Column       Non-Null Count  Dtype \n",
      "---  ------       --------------  ----- \n",
      " 0   id           73995 non-null  int64 \n",
      " 1   information  73995 non-null  object\n",
      " 2   type         73995 non-null  object\n",
      " 3   text         73995 non-null  object\n",
      "dtypes: int64(1), object(3)\n",
      "memory usage: 2.8+ MB\n"
     ]
    }
   ],
   "source": [
    "df.info()"
   ]
  },
  {
   "cell_type": "code",
   "execution_count": 15,
   "id": "4cb744af",
   "metadata": {},
   "outputs": [
    {
     "data": {
      "text/plain": [
       "type\n",
       "Negative      22358\n",
       "Positive      20654\n",
       "Neutral       18108\n",
       "Irrelevant    12875\n",
       "Name: count, dtype: int64"
      ]
     },
     "execution_count": 15,
     "metadata": {},
     "output_type": "execute_result"
    }
   ],
   "source": [
    "# sentiment types\n",
    "df['type'].value_counts()"
   ]
  },
  {
   "cell_type": "code",
   "execution_count": 16,
   "id": "0fc95f13",
   "metadata": {},
   "outputs": [
    {
     "data": {
      "image/png": "[encoded data removed]",
      "text/plain": [
       "<Figure size 800x800 with 1 Axes>"
      ]
     },
     "metadata": {},
     "output_type": "display_data"
    }
   ],
   "source": [
    "# Check the distribution of the 'type' column\n",
    "type_counts = df['type'].value_counts()\n",
    "\n",
    "colors = ['skyblue', 'lightcoral', 'lightgreen', 'orange']\n",
    "\n",
    "plt.figure(figsize=(8, 8))\n",
    "plt.pie(type_counts, labels=type_counts.index, autopct='%1.1f%%', startangle=90, colors=colors)\n",
    "plt.title('Distribution of Emotion Types')\n",
    "plt.show()"
   ]
  },
  {
   "cell_type": "code",
   "execution_count": 17,
   "id": "8a729db9",
   "metadata": {},
   "outputs": [
    {
     "name": "stderr",
     "output_type": "stream",
     "text": [
      "[nltk_data] Downloading package stopwords to\n",
      "[nltk_data]     C:\\Users\\SU3ARNA\\AppData\\Roaming\\nltk_data...\n",
      "[nltk_data]   Package stopwords is already up-to-date!\n",
      "[nltk_data] Downloading package punkt to\n",
      "[nltk_data]     C:\\Users\\SU3ARNA\\AppData\\Roaming\\nltk_data...\n",
      "[nltk_data]   Package punkt is already up-to-date!\n"
     ]
    }
   ],
   "source": [
    "from nltk.corpus import stopwords\n",
    "from nltk.tokenize import word_tokenize\n",
    "import re\n",
    "\n",
    "import nltk\n",
    "nltk.download('stopwords')\n",
    "nltk.download('punkt')\n",
    "\n",
    "def preprocess_text(text):\n",
    "    \n",
    "    text = text.lower()\n",
    "    text = re.sub(r'http\\S+', '', text)\n",
    "    text = re.sub(r'[^a-zA-Z\\s]', '', text)\n",
    " \n",
    "    stop_words = set(stopwords.words('english'))\n",
    "    words = word_tokenize(text)\n",
    "    words = [word for word in words if word not in stop_words]\n",
    "    return ' '.join(words)"
   ]
  },
  {
   "cell_type": "code",
   "execution_count": 18,
   "id": "dc63f41c",
   "metadata": {},
   "outputs": [
    {
     "name": "stderr",
     "output_type": "stream",
     "text": [
      "C:\\Users\\SU3ARNA\\AppData\\Local\\Temp\\ipykernel_3096\\1449415632.py:1: SettingWithCopyWarning: \n",
      "A value is trying to be set on a copy of a slice from a DataFrame.\n",
      "Try using .loc[row_indexer,col_indexer] = value instead\n",
      "\n",
      "See the caveats in the documentation: https://pandas.pydata.org/pandas-docs/stable/user_guide/indexing.html#returning-a-view-versus-a-copy\n",
      "  df.loc[:, 'cleaned_text'] = df['text'].apply(preprocess_text)\n"
     ]
    },
    {
     "data": {
      "text/html": [
       "<div>\n",
       "<style scoped>\n",
       "    .dataframe tbody tr th:only-of-type {\n",
       "        vertical-align: middle;\n",
       "    }\n",
       "\n",
       "    .dataframe tbody tr th {\n",
       "        vertical-align: top;\n",
       "    }\n",
       "\n",
       "    .dataframe thead th {\n",
       "        text-align: right;\n",
       "    }\n",
       "</style>\n",
       "<table border=\"1\" class=\"dataframe\">\n",
       "  <thead>\n",
       "    <tr style=\"text-align: right;\">\n",
       "      <th></th>\n",
       "      <th>id</th>\n",
       "      <th>information</th>\n",
       "      <th>type</th>\n",
       "      <th>text</th>\n",
       "      <th>cleaned_text</th>\n",
       "    </tr>\n",
       "  </thead>\n",
       "  <tbody>\n",
       "    <tr>\n",
       "      <th>44846</th>\n",
       "      <td>11701</td>\n",
       "      <td>Verizon</td>\n",
       "      <td>Negative</td>\n",
       "      <td>@verizon this is to notify you that ur company...</td>\n",
       "      <td>verizon notify ur company harassing payment ow...</td>\n",
       "    </tr>\n",
       "    <tr>\n",
       "      <th>67906</th>\n",
       "      <td>3630</td>\n",
       "      <td>Cyberpunk2077</td>\n",
       "      <td>Positive</td>\n",
       "      <td>@CyberpunkGame its 19th 2020 release date and ...</td>\n",
       "      <td>cyberpunkgame th release date pushed back curi...</td>\n",
       "    </tr>\n",
       "    <tr>\n",
       "      <th>33870</th>\n",
       "      <td>6617</td>\n",
       "      <td>Fortnite</td>\n",
       "      <td>Negative</td>\n",
       "      <td>Fortnite bullies me, right?. I. NEED. HIM! pic...</td>\n",
       "      <td>fortnite bullies right need pictwittercom qyxu...</td>\n",
       "    </tr>\n",
       "    <tr>\n",
       "      <th>61119</th>\n",
       "      <td>4876</td>\n",
       "      <td>GrandTheftAuto(GTA)</td>\n",
       "      <td>Positive</td>\n",
       "      <td>Thank god fuck</td>\n",
       "      <td>thank god fuck</td>\n",
       "    </tr>\n",
       "    <tr>\n",
       "      <th>45123</th>\n",
       "      <td>11748</td>\n",
       "      <td>Verizon</td>\n",
       "      <td>Positive</td>\n",
       "      <td>Chorus Thank you @davematthewsbnd &amp; @verizon a...</td>\n",
       "      <td>chorus thank davematthewsbnd verizon making di...</td>\n",
       "    </tr>\n",
       "    <tr>\n",
       "      <th>...</th>\n",
       "      <td>...</td>\n",
       "      <td>...</td>\n",
       "      <td>...</td>\n",
       "      <td>...</td>\n",
       "      <td>...</td>\n",
       "    </tr>\n",
       "    <tr>\n",
       "      <th>70753</th>\n",
       "      <td>10920</td>\n",
       "      <td>TomClancysGhostRecon</td>\n",
       "      <td>Neutral</td>\n",
       "      <td>@ GhostRecon the games have their problems but...</td>\n",
       "      <td>ghostrecon games problems ive definitely enjoy...</td>\n",
       "    </tr>\n",
       "    <tr>\n",
       "      <th>22203</th>\n",
       "      <td>4199</td>\n",
       "      <td>CS-GO</td>\n",
       "      <td>Positive</td>\n",
       "      <td>The I know I should be studying but fuck it, a...</td>\n",
       "      <td>know studying fuck anyone cs go pictwittercomh...</td>\n",
       "    </tr>\n",
       "    <tr>\n",
       "      <th>74066</th>\n",
       "      <td>9090</td>\n",
       "      <td>Nvidia</td>\n",
       "      <td>Neutral</td>\n",
       "      <td>E2E Networks is pleased to bring you new Test ...</td>\n",
       "      <td>ee networks pleased bring new test drive progr...</td>\n",
       "    </tr>\n",
       "    <tr>\n",
       "      <th>19835</th>\n",
       "      <td>12596</td>\n",
       "      <td>WorldOfCraft</td>\n",
       "      <td>Neutral</td>\n",
       "      <td>I just earned the [Scrappy's Best Friend] Achi...</td>\n",
       "      <td>earned scrappys best friend achievement</td>\n",
       "    </tr>\n",
       "    <tr>\n",
       "      <th>14371</th>\n",
       "      <td>2863</td>\n",
       "      <td>Dota2</td>\n",
       "      <td>Neutral</td>\n",
       "      <td>It's the return of @ teamnigma - SIMPLY PHENOM...</td>\n",
       "      <td>return teamnigma simply phenomenal sick game i...</td>\n",
       "    </tr>\n",
       "  </tbody>\n",
       "</table>\n",
       "<p>73995 rows × 5 columns</p>\n",
       "</div>"
      ],
      "text/plain": [
       "          id           information      type  \\\n",
       "44846  11701               Verizon  Negative   \n",
       "67906   3630         Cyberpunk2077  Positive   \n",
       "33870   6617              Fortnite  Negative   \n",
       "61119   4876   GrandTheftAuto(GTA)  Positive   \n",
       "45123  11748               Verizon  Positive   \n",
       "...      ...                   ...       ...   \n",
       "70753  10920  TomClancysGhostRecon   Neutral   \n",
       "22203   4199                 CS-GO  Positive   \n",
       "74066   9090                Nvidia   Neutral   \n",
       "19835  12596          WorldOfCraft   Neutral   \n",
       "14371   2863                 Dota2   Neutral   \n",
       "\n",
       "                                                    text  \\\n",
       "44846  @verizon this is to notify you that ur company...   \n",
       "67906  @CyberpunkGame its 19th 2020 release date and ...   \n",
       "33870  Fortnite bullies me, right?. I. NEED. HIM! pic...   \n",
       "61119                                     Thank god fuck   \n",
       "45123  Chorus Thank you @davematthewsbnd & @verizon a...   \n",
       "...                                                  ...   \n",
       "70753  @ GhostRecon the games have their problems but...   \n",
       "22203  The I know I should be studying but fuck it, a...   \n",
       "74066  E2E Networks is pleased to bring you new Test ...   \n",
       "19835  I just earned the [Scrappy's Best Friend] Achi...   \n",
       "14371  It's the return of @ teamnigma - SIMPLY PHENOM...   \n",
       "\n",
       "                                            cleaned_text  \n",
       "44846  verizon notify ur company harassing payment ow...  \n",
       "67906  cyberpunkgame th release date pushed back curi...  \n",
       "33870  fortnite bullies right need pictwittercom qyxu...  \n",
       "61119                                     thank god fuck  \n",
       "45123  chorus thank davematthewsbnd verizon making di...  \n",
       "...                                                  ...  \n",
       "70753  ghostrecon games problems ive definitely enjoy...  \n",
       "22203  know studying fuck anyone cs go pictwittercomh...  \n",
       "74066  ee networks pleased bring new test drive progr...  \n",
       "19835            earned scrappys best friend achievement  \n",
       "14371  return teamnigma simply phenomenal sick game i...  \n",
       "\n",
       "[73995 rows x 5 columns]"
      ]
     },
     "execution_count": 18,
     "metadata": {},
     "output_type": "execute_result"
    }
   ],
   "source": [
    "df.loc[:, 'cleaned_text'] = df['text'].apply(preprocess_text)\n",
    "df"
   ]
  },
  {
   "cell_type": "code",
   "execution_count": 19,
   "id": "c61db0ca",
   "metadata": {},
   "outputs": [],
   "source": [
    "df.to_csv('cleaned_tweets.csv')"
   ]
  },
  {
   "cell_type": "code",
   "execution_count": 20,
   "id": "f7cf1b84",
   "metadata": {},
   "outputs": [],
   "source": [
    "# Training model\n",
    "from sklearn.linear_model import LogisticRegression\n",
    "log_regression = LogisticRegression()\n",
    "\n",
    "vectorizer = TfidfVectorizer()\n",
    "X = df['cleaned_text']\n",
    "Y = df['type']\n",
    "\n",
    "X_train, X_test, y_train, y_test = train_test_split(X, Y, test_size=0.15) #Splitting dataset\n",
    "\n",
    " #Creating Pipeline\n",
    "pipeline = Pipeline([('vect', vectorizer),\n",
    "                     ('chi',  SelectKBest(chi2, k=2000)),\n",
    "                     ('clf', LogisticRegression(random_state=1, max_iter=1000))])\n",
    "\n",
    "\n",
    "\n",
    "\n",
    "# #Training model\n",
    "model = pipeline.fit(X_train, y_train)\n",
    "\n"
   ]
  },
  {
   "cell_type": "code",
   "execution_count": 21,
   "id": "ebba27d4",
   "metadata": {},
   "outputs": [
    {
     "name": "stdout",
     "output_type": "stream",
     "text": [
      "55438                                                 ever\n",
      "17447    aww thats shame actually dig white new ps cont...\n",
      "31446    stop playing league legends maybe find fucking...\n",
      "22922    rhandlerr homophobes nickname gay gunner block...\n",
      "33749    check awesome new app called trax best fortnit...\n",
      "                               ...                        \n",
      "10615    nice video jeffgrubb explaining autohdr functi...\n",
      "54730                   callofduty da ya took bountys game\n",
      "8044                                                      \n",
      "67022    johnson johnson announces selling talcbased ha...\n",
      "10975                                            cant wait\n",
      "Name: cleaned_text, Length: 11100, dtype: object 55438      Negative\n",
      "17447      Negative\n",
      "31446      Negative\n",
      "22922      Negative\n",
      "33749    Irrelevant\n",
      "            ...    \n",
      "10615       Neutral\n",
      "54730      Negative\n",
      "8044       Negative\n",
      "67022       Neutral\n",
      "10975      Positive\n",
      "Name: type, Length: 11100, dtype: object\n"
     ]
    }
   ],
   "source": [
    "print(X_test,y_test)"
   ]
  },
  {
   "cell_type": "code",
   "execution_count": 28,
   "id": "1ba1197e",
   "metadata": {},
   "outputs": [
    {
     "name": "stdout",
     "output_type": "stream",
     "text": [
      "0.6160360360360361\n"
     ]
    }
   ],
   "source": [
    "#Accuracy\n",
    "from sklearn.metrics import accuracy_score\n",
    "predict_news_cat = model.predict(X_test)\n",
    "print(accuracy_score(y_test,predict_news_cat))\n"
   ]
  },
  {
   "cell_type": "code",
   "execution_count": 23,
   "id": "b5964521",
   "metadata": {},
   "outputs": [
    {
     "name": "stdout",
     "output_type": "stream",
     "text": [
      "Enter tweets = i am happy\n",
      "Predicted tweets type =  Positive\n"
     ]
    }
   ],
   "source": [
    "tweets = input(\"Enter tweets = \")\n",
    "tweets_data = {'predict_tweets':[tweets]}\n",
    "tweets_data_df = pd.DataFrame(tweets_data)\n",
    "\n",
    "predict_tweets_cat = model.predict(tweets_data_df['predict_tweets'])\n",
    "print(\"Predicted tweets type = \",predict_tweets_cat[0])"
   ]
  },
  {
   "cell_type": "code",
   "execution_count": 24,
   "id": "3d66b330",
   "metadata": {},
   "outputs": [
    {
     "name": "stdout",
     "output_type": "stream",
     "text": [
      "              precision    recall  f1-score   support\n",
      "\n",
      "  Irrelevant       0.64      0.42      0.51      1940\n",
      "    Negative       0.67      0.73      0.70      3324\n",
      "     Neutral       0.54      0.58      0.56      2796\n",
      "    Positive       0.62      0.65      0.63      3040\n",
      "\n",
      "    accuracy                           0.62     11100\n",
      "   macro avg       0.62      0.59      0.60     11100\n",
      "weighted avg       0.62      0.62      0.61     11100\n",
      "\n",
      "[[ 811  339  387  403]\n",
      " [ 119 2430  467  308]\n",
      " [ 188  475 1621  512]\n",
      " [ 142  394  528 1976]]\n"
     ]
    },
    {
     "data": {
      "image/png": "[encoded data removed]",
      "text/plain": [
       "<Figure size 800x800 with 2 Axes>"
      ]
     },
     "metadata": {},
     "output_type": "display_data"
    }
   ],
   "source": [
    "# confusion matrix and classification report(precision, recall, F1-score)\n",
    "ytest = np.array(y_test)\n",
    "print(classification_report(ytest,model.predict(X_test)))\n",
    "print(confusion_matrix(ytest,model.predict(X_test)))\n",
    "\n",
    "\n",
    "import matplotlib.pyplot as plt\n",
    "from sklearn.metrics import ConfusionMatrixDisplay\n",
    "cm = confusion_matrix(ytest,model.predict(X_test))\n",
    "# Change figure size and increase dpi for better resolution\n",
    "# and get reference to axes object\n",
    "fig, ax = plt.subplots(figsize=(8,8), dpi=100)\n",
    "class_names = ['Irrelevant','Negative','Positive','Neutral']\n",
    "# initialize using the raw 2D confusion matrix\n",
    "# and output labels (in our case, it's 0 and 1)\n",
    "display = ConfusionMatrixDisplay(cm, display_labels=class_names)\n",
    "\n",
    "# set the plot title using the axes object\n",
    "ax.set(title='Confusion Matrix for Text Classification')\n",
    "\n",
    "# show the plot.\n",
    "# Pass the parameter ax to show customizations (ex. title)\n",
    "display.plot(ax=ax);"
   ]
  },
  {
   "cell_type": "code",
   "execution_count": null,
   "id": "b842dee0",
   "metadata": {},
   "outputs": [],
   "source": []
  }
 ],
 "metadata": {
  "kernelspec": {
   "display_name": "Python 3 (ipykernel)",
   "language": "python",
   "name": "python3"
  },
  "language_info": {
   "codemirror_mode": {
    "name": "ipython",
    "version": 3
   },
   "file_extension": ".py",
   "mimetype": "text/x-python",
   "name": "python",
   "nbconvert_exporter": "python",
   "pygments_lexer": "ipython3",
   "version": "3.11.5"
  }
 },
 "nbformat": 4,
 "nbformat_minor": 5
}
