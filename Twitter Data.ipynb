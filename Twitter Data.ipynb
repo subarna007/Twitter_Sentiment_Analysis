{
 "cells": [
  {
   "cell_type": "code",
   "execution_count": 1,
   "id": "4c2dae98",
   "metadata": {},
   "outputs": [
    {
     "name": "stderr",
     "output_type": "stream",
     "text": [
      "[nltk_data] Downloading package stopwords to\n",
      "[nltk_data]     C:\\Users\\SU3ARNA\\AppData\\Roaming\\nltk_data...\n",
      "[nltk_data]   Package stopwords is already up-to-date!\n"
     ]
    }
   ],
   "source": [
    "import numpy as np\n",
    "import pandas as pd\n",
    "import re,string  #regular expression or RegEx in python\n",
    "import matplotlib.pyplot as plt\n",
    "from nltk.corpus import stopwords  #Natural Language ToolKit\n",
    "from nltk.stem import PorterStemmer\n",
    "from sklearn.feature_extraction.text import TfidfVectorizer\n",
    "from sklearn.pipeline import Pipeline\n",
    "from sklearn.metrics import classification_report, confusion_matrix\n",
    "from sklearn.model_selection import train_test_split\n",
    "from sklearn.feature_selection import SelectKBest, chi2\n",
    "import pickle\n",
    "import nltk\n",
    "nltk.download('stopwords')\n",
    "%matplotlib inline"
   ]
  },
  {
   "cell_type": "code",
   "execution_count": 2,
   "id": "9ff0ad65",
   "metadata": {},
   "outputs": [
    {
     "data": {
      "text/html": [
       "<div>\n",
       "<style scoped>\n",
       "    .dataframe tbody tr th:only-of-type {\n",
       "        vertical-align: middle;\n",
       "    }\n",
       "\n",
       "    .dataframe tbody tr th {\n",
       "        vertical-align: top;\n",
       "    }\n",
       "\n",
       "    .dataframe thead th {\n",
       "        text-align: right;\n",
       "    }\n",
       "</style>\n",
       "<table border=\"1\" class=\"dataframe\">\n",
       "  <thead>\n",
       "    <tr style=\"text-align: right;\">\n",
       "      <th></th>\n",
       "      <th>clean_text</th>\n",
       "      <th>category</th>\n",
       "    </tr>\n",
       "  </thead>\n",
       "  <tbody>\n",
       "    <tr>\n",
       "      <th>147926</th>\n",
       "      <td>has fatwa been pronounced against narendra modi</td>\n",
       "      <td>0.0</td>\n",
       "    </tr>\n",
       "    <tr>\n",
       "      <th>73049</th>\n",
       "      <td>when people were giving credit modi like congr...</td>\n",
       "      <td>1.0</td>\n",
       "    </tr>\n",
       "    <tr>\n",
       "      <th>107856</th>\n",
       "      <td>exclusive interview please watch reasons why m...</td>\n",
       "      <td>0.0</td>\n",
       "    </tr>\n",
       "    <tr>\n",
       "      <th>137685</th>\n",
       "      <td>lets extrapolate this modi govt can hide such ...</td>\n",
       "      <td>1.0</td>\n",
       "    </tr>\n",
       "    <tr>\n",
       "      <th>136114</th>\n",
       "      <td>modi should get the credit for removing the mi...</td>\n",
       "      <td>1.0</td>\n",
       "    </tr>\n",
       "    <tr>\n",
       "      <th>...</th>\n",
       "      <td>...</td>\n",
       "      <td>...</td>\n",
       "    </tr>\n",
       "    <tr>\n",
       "      <th>78334</th>\n",
       "      <td>modi putin interacting with students delhi sou...</td>\n",
       "      <td>0.0</td>\n",
       "    </tr>\n",
       "    <tr>\n",
       "      <th>4357</th>\n",
       "      <td>you may think have lot hatred for bjp modi\\nbu...</td>\n",
       "      <td>0.0</td>\n",
       "    </tr>\n",
       "    <tr>\n",
       "      <th>124399</th>\n",
       "      <td>narendra modi run away from studio during inte...</td>\n",
       "      <td>0.0</td>\n",
       "    </tr>\n",
       "    <tr>\n",
       "      <th>60456</th>\n",
       "      <td>when modi started make the announcement though...</td>\n",
       "      <td>0.0</td>\n",
       "    </tr>\n",
       "    <tr>\n",
       "      <th>36287</th>\n",
       "      <td>furthermore the indian farmers starving commit...</td>\n",
       "      <td>1.0</td>\n",
       "    </tr>\n",
       "  </tbody>\n",
       "</table>\n",
       "<p>162980 rows × 2 columns</p>\n",
       "</div>"
      ],
      "text/plain": [
       "                                               clean_text  category\n",
       "147926   has fatwa been pronounced against narendra modi        0.0\n",
       "73049   when people were giving credit modi like congr...       1.0\n",
       "107856  exclusive interview please watch reasons why m...       0.0\n",
       "137685  lets extrapolate this modi govt can hide such ...       1.0\n",
       "136114  modi should get the credit for removing the mi...       1.0\n",
       "...                                                   ...       ...\n",
       "78334   modi putin interacting with students delhi sou...       0.0\n",
       "4357    you may think have lot hatred for bjp modi\\nbu...       0.0\n",
       "124399  narendra modi run away from studio during inte...       0.0\n",
       "60456   when modi started make the announcement though...       0.0\n",
       "36287   furthermore the indian farmers starving commit...       1.0\n",
       "\n",
       "[162980 rows x 2 columns]"
      ]
     },
     "execution_count": 2,
     "metadata": {},
     "output_type": "execute_result"
    }
   ],
   "source": [
    "df = pd.read_csv('Twitter_Data.csv', encoding = 'latin1')\n",
    "df = df.sample(frac = 1)\n",
    "df"
   ]
  },
  {
   "cell_type": "code",
   "execution_count": 3,
   "id": "242982ec",
   "metadata": {},
   "outputs": [
    {
     "name": "stdout",
     "output_type": "stream",
     "text": [
      "['i', 'me', 'my', 'myself', 'we', 'our', 'ours', 'ourselves', 'you', \"you're\", \"you've\", \"you'll\", \"you'd\", 'your', 'yours', 'yourself', 'yourselves', 'he', 'him', 'his', 'himself', 'she', \"she's\", 'her', 'hers', 'herself', 'it', \"it's\", 'its', 'itself', 'they', 'them', 'their', 'theirs', 'themselves', 'what', 'which', 'who', 'whom', 'this', 'that', \"that'll\", 'these', 'those', 'am', 'is', 'are', 'was', 'were', 'be', 'been', 'being', 'have', 'has', 'had', 'having', 'do', 'does', 'did', 'doing', 'a', 'an', 'the', 'and', 'but', 'if', 'or', 'because', 'as', 'until', 'while', 'of', 'at', 'by', 'for', 'with', 'about', 'against', 'between', 'into', 'through', 'during', 'before', 'after', 'above', 'below', 'to', 'from', 'up', 'down', 'in', 'out', 'on', 'off', 'over', 'under', 'again', 'further', 'then', 'once', 'here', 'there', 'when', 'where', 'why', 'how', 'all', 'any', 'both', 'each', 'few', 'more', 'most', 'other', 'some', 'such', 'no', 'nor', 'not', 'only', 'own', 'same', 'so', 'than', 'too', 'very', 's', 't', 'can', 'will', 'just', 'don', \"don't\", 'should', \"should've\", 'now', 'd', 'll', 'm', 'o', 're', 've', 'y', 'ain', 'aren', \"aren't\", 'couldn', \"couldn't\", 'didn', \"didn't\", 'doesn', \"doesn't\", 'hadn', \"hadn't\", 'hasn', \"hasn't\", 'haven', \"haven't\", 'isn', \"isn't\", 'ma', 'mightn', \"mightn't\", 'mustn', \"mustn't\", 'needn', \"needn't\", 'shan', \"shan't\", 'shouldn', \"shouldn't\", 'wasn', \"wasn't\", 'weren', \"weren't\", 'won', \"won't\", 'wouldn', \"wouldn't\"]\n"
     ]
    },
    {
     "name": "stderr",
     "output_type": "stream",
     "text": [
      "[nltk_data] Downloading package stopwords to\n",
      "[nltk_data]     C:\\Users\\SU3ARNA\\AppData\\Roaming\\nltk_data...\n",
      "[nltk_data]   Package stopwords is already up-to-date!\n"
     ]
    }
   ],
   "source": [
    "#stop words\n",
    "nltk.download('stopwords')\n",
    "words = stopwords.words(\"english\")\n",
    "print(words)"
   ]
  },
  {
   "cell_type": "code",
   "execution_count": 4,
   "id": "f80b9333",
   "metadata": {},
   "outputs": [],
   "source": [
    "def preprocess_text(text):\n",
    "    \n",
    "    text = text.lower()\n",
    "    text = re.sub(r'http\\S+', '', text)\n",
    "    text = re.sub(r'[^a-zA-Z\\s]', '', text)\n",
    " \n",
    "    stop_words = set(stopwords.words('english'))\n",
    "    words = word_tokenize(text)\n",
    "    words = [word for word in words if word not in stop_words]\n",
    "    return ' '.join(words)"
   ]
  },
  {
   "cell_type": "code",
   "execution_count": 5,
   "id": "c9fb580a",
   "metadata": {},
   "outputs": [
    {
     "data": {
      "text/html": [
       "<div>\n",
       "<style scoped>\n",
       "    .dataframe tbody tr th:only-of-type {\n",
       "        vertical-align: middle;\n",
       "    }\n",
       "\n",
       "    .dataframe tbody tr th {\n",
       "        vertical-align: top;\n",
       "    }\n",
       "\n",
       "    .dataframe thead th {\n",
       "        text-align: right;\n",
       "    }\n",
       "</style>\n",
       "<table border=\"1\" class=\"dataframe\">\n",
       "  <thead>\n",
       "    <tr style=\"text-align: right;\">\n",
       "      <th></th>\n",
       "      <th>clean_text</th>\n",
       "      <th>category</th>\n",
       "    </tr>\n",
       "  </thead>\n",
       "  <tbody>\n",
       "    <tr>\n",
       "      <th>147926</th>\n",
       "      <td>has fatwa been pronounced against narendra modi</td>\n",
       "      <td>0.0</td>\n",
       "    </tr>\n",
       "    <tr>\n",
       "      <th>73049</th>\n",
       "      <td>when people were giving credit modi like congr...</td>\n",
       "      <td>1.0</td>\n",
       "    </tr>\n",
       "    <tr>\n",
       "      <th>107856</th>\n",
       "      <td>exclusive interview please watch reasons why m...</td>\n",
       "      <td>0.0</td>\n",
       "    </tr>\n",
       "    <tr>\n",
       "      <th>137685</th>\n",
       "      <td>lets extrapolate this modi govt can hide such ...</td>\n",
       "      <td>1.0</td>\n",
       "    </tr>\n",
       "    <tr>\n",
       "      <th>136114</th>\n",
       "      <td>modi should get the credit for removing the mi...</td>\n",
       "      <td>1.0</td>\n",
       "    </tr>\n",
       "    <tr>\n",
       "      <th>...</th>\n",
       "      <td>...</td>\n",
       "      <td>...</td>\n",
       "    </tr>\n",
       "    <tr>\n",
       "      <th>78334</th>\n",
       "      <td>modi putin interacting with students delhi sou...</td>\n",
       "      <td>0.0</td>\n",
       "    </tr>\n",
       "    <tr>\n",
       "      <th>4357</th>\n",
       "      <td>you may think have lot hatred for bjp modi\\nbu...</td>\n",
       "      <td>0.0</td>\n",
       "    </tr>\n",
       "    <tr>\n",
       "      <th>124399</th>\n",
       "      <td>narendra modi run away from studio during inte...</td>\n",
       "      <td>0.0</td>\n",
       "    </tr>\n",
       "    <tr>\n",
       "      <th>60456</th>\n",
       "      <td>when modi started make the announcement though...</td>\n",
       "      <td>0.0</td>\n",
       "    </tr>\n",
       "    <tr>\n",
       "      <th>36287</th>\n",
       "      <td>furthermore the indian farmers starving commit...</td>\n",
       "      <td>1.0</td>\n",
       "    </tr>\n",
       "  </tbody>\n",
       "</table>\n",
       "<p>162980 rows × 2 columns</p>\n",
       "</div>"
      ],
      "text/plain": [
       "                                               clean_text  category\n",
       "147926   has fatwa been pronounced against narendra modi        0.0\n",
       "73049   when people were giving credit modi like congr...       1.0\n",
       "107856  exclusive interview please watch reasons why m...       0.0\n",
       "137685  lets extrapolate this modi govt can hide such ...       1.0\n",
       "136114  modi should get the credit for removing the mi...       1.0\n",
       "...                                                   ...       ...\n",
       "78334   modi putin interacting with students delhi sou...       0.0\n",
       "4357    you may think have lot hatred for bjp modi\\nbu...       0.0\n",
       "124399  narendra modi run away from studio during inte...       0.0\n",
       "60456   when modi started make the announcement though...       0.0\n",
       "36287   furthermore the indian farmers starving commit...       1.0\n",
       "\n",
       "[162980 rows x 2 columns]"
      ]
     },
     "execution_count": 5,
     "metadata": {},
     "output_type": "execute_result"
    }
   ],
   "source": [
    "df"
   ]
  },
  {
   "cell_type": "code",
   "execution_count": 6,
   "id": "b13d88f0",
   "metadata": {},
   "outputs": [
    {
     "name": "stdout",
     "output_type": "stream",
     "text": [
      "Missing values in  Dataset:\n",
      "clean_text    4\n",
      "category      7\n",
      "dtype: int64\n"
     ]
    }
   ],
   "source": [
    "print(\"Missing values in  Dataset:\")\n",
    "print(df.isnull().sum())"
   ]
  },
  {
   "cell_type": "code",
   "execution_count": 7,
   "id": "f3918693",
   "metadata": {},
   "outputs": [
    {
     "data": {
      "text/plain": [
       "(3, array([ 0.,  1., -1., nan]))"
      ]
     },
     "execution_count": 7,
     "metadata": {},
     "output_type": "execute_result"
    }
   ],
   "source": [
    "df.category.nunique(), df.category.unique()"
   ]
  },
  {
   "cell_type": "code",
   "execution_count": 8,
   "id": "fcac5a82",
   "metadata": {},
   "outputs": [
    {
     "data": {
      "text/plain": [
       "clean_text    0\n",
       "category      0\n",
       "dtype: int64"
      ]
     },
     "execution_count": 8,
     "metadata": {},
     "output_type": "execute_result"
    }
   ],
   "source": [
    "df = df.dropna()\n",
    "df.isnull().sum()"
   ]
  },
  {
   "cell_type": "code",
   "execution_count": 9,
   "id": "ab32720a",
   "metadata": {},
   "outputs": [
    {
     "data": {
      "text/plain": [
       "(162969, 2)"
      ]
     },
     "execution_count": 9,
     "metadata": {},
     "output_type": "execute_result"
    }
   ],
   "source": [
    "df.shape"
   ]
  },
  {
   "cell_type": "code",
   "execution_count": 10,
   "id": "39677046",
   "metadata": {},
   "outputs": [
    {
     "name": "stdout",
     "output_type": "stream",
     "text": [
      "<class 'pandas.core.frame.DataFrame'>\n",
      "Index: 162969 entries, 147926 to 36287\n",
      "Data columns (total 2 columns):\n",
      " #   Column      Non-Null Count   Dtype  \n",
      "---  ------      --------------   -----  \n",
      " 0   clean_text  162969 non-null  object \n",
      " 1   category    162969 non-null  float64\n",
      "dtypes: float64(1), object(1)\n",
      "memory usage: 3.7+ MB\n"
     ]
    }
   ],
   "source": [
    "df.info()"
   ]
  },
  {
   "cell_type": "code",
   "execution_count": 11,
   "id": "79bf0984",
   "metadata": {},
   "outputs": [
    {
     "data": {
      "text/plain": [
       "'modi promised â\\x80\\x9cminimum government maximum governanceâ\\x80\\x9d expected begin difficult job reforming state take years get justice state business exit psus temples'"
      ]
     },
     "execution_count": 11,
     "metadata": {},
     "output_type": "execute_result"
    }
   ],
   "source": [
    "data = df['clean_text'][0].split()\n",
    "for i in words:\n",
    "  if i in data:\n",
    "    c = data.count(i)\n",
    "    for j in range(c):\n",
    "      data.remove(i)\n",
    "\" \".join(data)\n"
   ]
  },
  {
   "cell_type": "code",
   "execution_count": 12,
   "id": "6889941d",
   "metadata": {},
   "outputs": [
    {
     "data": {
      "text/plain": [
       "'used bjp money visit japan singapore usa for yrs and left bjp when modi asked how tdp spend bjp moneyexp details yrs political experience use increased pension dwacra yuvanestam schemes just before elections win votes'"
      ]
     },
     "execution_count": 12,
     "metadata": {},
     "output_type": "execute_result"
    }
   ],
   "source": [
    "# Data Cleaning using regex\n",
    "regs = re.sub(\"[^a-zA-Z]\", \" \", df['clean_text'][126]).lower()\n",
    "regs"
   ]
  },
  {
   "cell_type": "code",
   "execution_count": 13,
   "id": "a528b622",
   "metadata": {},
   "outputs": [
    {
     "name": "stdout",
     "output_type": "stream",
     "text": [
      "['when', 'modi', 'promised', 'â\\x80\\x9cminimum', 'government', 'maximum', 'governanceâ\\x80\\x9d', 'expected', 'him', 'begin', 'the', 'difficult', 'job', 'reforming', 'the', 'state', 'why', 'does', 'take', 'years', 'get', 'justice', 'state', 'should', 'and', 'not', 'business', 'and', 'should', 'exit', 'psus', 'and', 'temples']\n"
     ]
    },
    {
     "data": {
      "text/plain": [
       "'when modi promised â\\x80\\x9cminimum government maximum governanceâ\\x80\\x9d expected him begin the difficult job reforming the state why does take years get justice state should and not business and should exit psus and temples'"
      ]
     },
     "execution_count": 13,
     "metadata": {},
     "output_type": "execute_result"
    }
   ],
   "source": [
    "# Data Cleaning using stemmer\n",
    "\n",
    "stemmer = PorterStemmer()\n",
    "data = df['clean_text'][0].split()\n",
    "print(data)\n",
    "\"\".join([stemmer.stem(i) for i in df['clean_text'][0]])\n",
    "# stemmer.stem(\"\")"
   ]
  },
  {
   "cell_type": "code",
   "execution_count": 14,
   "id": "2742fb85",
   "metadata": {},
   "outputs": [
    {
     "name": "stderr",
     "output_type": "stream",
     "text": [
      "C:\\Users\\SU3ARNA\\AppData\\Local\\Temp\\ipykernel_3876\\2276159216.py:2: SettingWithCopyWarning: \n",
      "A value is trying to be set on a copy of a slice from a DataFrame.\n",
      "Try using .loc[row_indexer,col_indexer] = value instead\n",
      "\n",
      "See the caveats in the documentation: https://pandas.pydata.org/pandas-docs/stable/user_guide/indexing.html#returning-a-view-versus-a-copy\n",
      "  df['cleaned'] = list(map(lambda x: \" \".join([i for i in re.sub(\"[^a-zA-Z]\", \" \", x).split() if i not in words]),df['clean_text']))\n",
      "C:\\Users\\SU3ARNA\\AppData\\Local\\Temp\\ipykernel_3876\\2276159216.py:3: SettingWithCopyWarning: \n",
      "A value is trying to be set on a copy of a slice from a DataFrame.\n",
      "Try using .loc[row_indexer,col_indexer] = value instead\n",
      "\n",
      "See the caveats in the documentation: https://pandas.pydata.org/pandas-docs/stable/user_guide/indexing.html#returning-a-view-versus-a-copy\n",
      "  df['cleaned'] = df['cleaned'].apply(lambda x: \" \".join([stemmer.stem(i) for i in x.lower().split()]))\n"
     ]
    },
    {
     "data": {
      "text/html": [
       "<div>\n",
       "<style scoped>\n",
       "    .dataframe tbody tr th:only-of-type {\n",
       "        vertical-align: middle;\n",
       "    }\n",
       "\n",
       "    .dataframe tbody tr th {\n",
       "        vertical-align: top;\n",
       "    }\n",
       "\n",
       "    .dataframe thead th {\n",
       "        text-align: right;\n",
       "    }\n",
       "</style>\n",
       "<table border=\"1\" class=\"dataframe\">\n",
       "  <thead>\n",
       "    <tr style=\"text-align: right;\">\n",
       "      <th></th>\n",
       "      <th>clean_text</th>\n",
       "      <th>category</th>\n",
       "      <th>cleaned</th>\n",
       "    </tr>\n",
       "  </thead>\n",
       "  <tbody>\n",
       "    <tr>\n",
       "      <th>147926</th>\n",
       "      <td>has fatwa been pronounced against narendra modi</td>\n",
       "      <td>0.0</td>\n",
       "      <td>fatwa pronounc narendra modi</td>\n",
       "    </tr>\n",
       "    <tr>\n",
       "      <th>73049</th>\n",
       "      <td>when people were giving credit modi like congr...</td>\n",
       "      <td>1.0</td>\n",
       "      <td>peopl give credit modi like congratul isro she...</td>\n",
       "    </tr>\n",
       "    <tr>\n",
       "      <th>107856</th>\n",
       "      <td>exclusive interview please watch reasons why m...</td>\n",
       "      <td>0.0</td>\n",
       "      <td>exclus interview pleas watch reason modi ralli...</td>\n",
       "    </tr>\n",
       "    <tr>\n",
       "      <th>137685</th>\n",
       "      <td>lets extrapolate this modi govt can hide such ...</td>\n",
       "      <td>1.0</td>\n",
       "      <td>let extrapol modi govt hide import news nation...</td>\n",
       "    </tr>\n",
       "    <tr>\n",
       "      <th>136114</th>\n",
       "      <td>modi should get the credit for removing the mi...</td>\n",
       "      <td>1.0</td>\n",
       "      <td>modi get credit remov middlemen involv corrupt...</td>\n",
       "    </tr>\n",
       "    <tr>\n",
       "      <th>...</th>\n",
       "      <td>...</td>\n",
       "      <td>...</td>\n",
       "      <td>...</td>\n",
       "    </tr>\n",
       "    <tr>\n",
       "      <th>78334</th>\n",
       "      <td>modi putin interacting with students delhi sou...</td>\n",
       "      <td>0.0</td>\n",
       "      <td>modi putin interact student delhi sourc youtub...</td>\n",
       "    </tr>\n",
       "    <tr>\n",
       "      <th>4357</th>\n",
       "      <td>you may think have lot hatred for bjp modi\\nbu...</td>\n",
       "      <td>0.0</td>\n",
       "      <td>may think lot hatr bjp modi truth grate bjp rs...</td>\n",
       "    </tr>\n",
       "    <tr>\n",
       "      <th>124399</th>\n",
       "      <td>narendra modi run away from studio during inte...</td>\n",
       "      <td>0.0</td>\n",
       "      <td>narendra modi run away studio interview karan ...</td>\n",
       "    </tr>\n",
       "    <tr>\n",
       "      <th>60456</th>\n",
       "      <td>when modi started make the announcement though...</td>\n",
       "      <td>0.0</td>\n",
       "      <td>modi start make announc thought go say contact...</td>\n",
       "    </tr>\n",
       "    <tr>\n",
       "      <th>36287</th>\n",
       "      <td>furthermore the indian farmers starving commit...</td>\n",
       "      <td>1.0</td>\n",
       "      <td>furthermor indian farmer starv commit suicid i...</td>\n",
       "    </tr>\n",
       "  </tbody>\n",
       "</table>\n",
       "<p>162969 rows × 3 columns</p>\n",
       "</div>"
      ],
      "text/plain": [
       "                                               clean_text  category  \\\n",
       "147926   has fatwa been pronounced against narendra modi        0.0   \n",
       "73049   when people were giving credit modi like congr...       1.0   \n",
       "107856  exclusive interview please watch reasons why m...       0.0   \n",
       "137685  lets extrapolate this modi govt can hide such ...       1.0   \n",
       "136114  modi should get the credit for removing the mi...       1.0   \n",
       "...                                                   ...       ...   \n",
       "78334   modi putin interacting with students delhi sou...       0.0   \n",
       "4357    you may think have lot hatred for bjp modi\\nbu...       0.0   \n",
       "124399  narendra modi run away from studio during inte...       0.0   \n",
       "60456   when modi started make the announcement though...       0.0   \n",
       "36287   furthermore the indian farmers starving commit...       1.0   \n",
       "\n",
       "                                                  cleaned  \n",
       "147926                       fatwa pronounc narendra modi  \n",
       "73049   peopl give credit modi like congratul isro she...  \n",
       "107856  exclus interview pleas watch reason modi ralli...  \n",
       "137685  let extrapol modi govt hide import news nation...  \n",
       "136114  modi get credit remov middlemen involv corrupt...  \n",
       "...                                                   ...  \n",
       "78334   modi putin interact student delhi sourc youtub...  \n",
       "4357    may think lot hatr bjp modi truth grate bjp rs...  \n",
       "124399  narendra modi run away studio interview karan ...  \n",
       "60456   modi start make announc thought go say contact...  \n",
       "36287   furthermor indian farmer starv commit suicid i...  \n",
       "\n",
       "[162969 rows x 3 columns]"
      ]
     },
     "execution_count": 14,
     "metadata": {},
     "output_type": "execute_result"
    }
   ],
   "source": [
    "# Doing all cleaning process using regex, stemmer, stopwords for all data\n",
    "df['cleaned'] = list(map(lambda x: \" \".join([i for i in re.sub(\"[^a-zA-Z]\", \" \", x).split() if i not in words]),df['clean_text']))\n",
    "df['cleaned'] = df['cleaned'].apply(lambda x: \" \".join([stemmer.stem(i) for i in x.lower().split()]))\n",
    "df"
   ]
  },
  {
   "cell_type": "code",
   "execution_count": 20,
   "id": "e91911ca",
   "metadata": {},
   "outputs": [],
   "source": [
    "# Training model\n",
    "from sklearn.linear_model import LogisticRegression\n",
    "log_regression = LogisticRegression()\n",
    "\n",
    "vectorizer = TfidfVectorizer()\n",
    "X = df['cleaned']\n",
    "Y = df['category']\n",
    "\n",
    "X_train, X_test, y_train, y_test = train_test_split(X, Y, test_size=0.15) #Splitting dataset\n",
    "\n",
    " #Creating Pipeline\n",
    "pipeline = Pipeline([('vect', vectorizer),\n",
    "                     ('chi',  SelectKBest(chi2, k=2000)),\n",
    "                     ('clf', LogisticRegression(random_state=1, max_iter=1000))])\n",
    "\n",
    "\n",
    "\n",
    "\n",
    "# #Training model\n",
    "model = pipeline.fit(X_train, y_train)\n",
    "\n"
   ]
  },
  {
   "cell_type": "code",
   "execution_count": 21,
   "id": "3d45227c",
   "metadata": {},
   "outputs": [
    {
     "name": "stdout",
     "output_type": "stream",
     "text": [
      "127689    true arfa that ppl india want modi chair rathe...\n",
      "18411     remind modi promiseonli arvind kejriw make lif...\n",
      "77519     wait everi speech honor prime minist sri naren...\n",
      "40127     modi modi india fool think modi india dont let...\n",
      "104136    goodh kick bjp much earlierh modi wavebut time...\n",
      "                                ...                        \n",
      "130407                          modi enough lie support bjp\n",
      "91275                 percent peopl said modi investig asap\n",
      "107564          may modi win articl ram templ decis complet\n",
      "95426     even delet frnd mine rahul gandhi bhaktsmost f...\n",
      "152492    funni modi gujarat record victori chose varana...\n",
      "Name: cleaned, Length: 24446, dtype: object 127689    1.0\n",
      "18411     1.0\n",
      "77519     0.0\n",
      "40127     0.0\n",
      "104136    1.0\n",
      "         ... \n",
      "130407    0.0\n",
      "91275     0.0\n",
      "107564    1.0\n",
      "95426     1.0\n",
      "152492    1.0\n",
      "Name: category, Length: 24446, dtype: float64\n"
     ]
    }
   ],
   "source": [
    "print(X_test,y_test)"
   ]
  },
  {
   "cell_type": "code",
   "execution_count": 22,
   "id": "06a4dcd2",
   "metadata": {},
   "outputs": [
    {
     "name": "stdout",
     "output_type": "stream",
     "text": [
      "0.8475006135973165\n"
     ]
    }
   ],
   "source": [
    "#Accuracy\n",
    "from sklearn.metrics import accuracy_score\n",
    "predict_news_cat = model.predict(X_test)\n",
    "print(accuracy_score(y_test,predict_news_cat))\n"
   ]
  },
  {
   "cell_type": "code",
   "execution_count": 23,
   "id": "dafa9d50",
   "metadata": {},
   "outputs": [
    {
     "name": "stdout",
     "output_type": "stream",
     "text": [
      "Test accuracy =  0.8475006135973165\n",
      "Train accuracy =  0.8495701074911748\n",
      "\n",
      "\n"
     ]
    }
   ],
   "source": [
    "#Accuracy\n",
    "from sklearn.metrics import accuracy_score\n",
    "predict_test_news_cat = model.predict(X_test)\n",
    "predict_train_news_cat = model.predict(X_train)\n",
    "print(\"Test accuracy = \",accuracy_score(y_test,predict_test_news_cat))\n",
    "print(\"Train accuracy = \",accuracy_score(y_train,predict_train_news_cat))\n",
    "print('\\n')"
   ]
  },
  {
   "cell_type": "code",
   "execution_count": 19,
   "id": "fac5743c",
   "metadata": {},
   "outputs": [
    {
     "name": "stdout",
     "output_type": "stream",
     "text": [
      "Enter tweets = i am sad\n",
      "Predicted tweets type =  -1.0\n"
     ]
    }
   ],
   "source": [
    "tweets = input(\"Enter tweets = \")\n",
    "tweets_data = {'predict_tweets':[tweets]}\n",
    "tweets_data_df = pd.DataFrame(tweets_data)\n",
    "\n",
    "predict_tweets_cat = model.predict(tweets_data_df['predict_tweets'])\n",
    "print(\"Predicted tweets type = \",predict_tweets_cat[0])"
   ]
  },
  {
   "cell_type": "code",
   "execution_count": null,
   "id": "3f675e13",
   "metadata": {},
   "outputs": [],
   "source": []
  }
 ],
 "metadata": {
  "kernelspec": {
   "display_name": "Python 3 (ipykernel)",
   "language": "python",
   "name": "python3"
  },
  "language_info": {
   "codemirror_mode": {
    "name": "ipython",
    "version": 3
   },
   "file_extension": ".py",
   "mimetype": "text/x-python",
   "name": "python",
   "nbconvert_exporter": "python",
   "pygments_lexer": "ipython3",
   "version": "3.11.5"
  }
 },
 "nbformat": 4,
 "nbformat_minor": 5
}
